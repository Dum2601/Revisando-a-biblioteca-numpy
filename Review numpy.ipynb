{
 "cells": [
  {
   "cell_type": "code",
   "execution_count": 0,
   "metadata": {
    "application/vnd.databricks.v1+cell": {
     "cellMetadata": {
      "byteLimit": 2048000,
      "rowLimit": 10000
     },
     "inputWidgets": {},
     "nuid": "8b7efaea-a50f-45a0-82cf-03402d5a2806",
     "showTitle": false,
     "tableResultSettingsMap": {},
     "title": ""
    }
   },
   "outputs": [],
   "source": [
    "import numpy as np"
   ]
  },
  {
   "cell_type": "markdown",
   "metadata": {
    "application/vnd.databricks.v1+cell": {
     "cellMetadata": {},
     "inputWidgets": {},
     "nuid": "d363ab7e-a90d-4bb3-bda4-4be7b33d4794",
     "showTitle": false,
     "tableResultSettingsMap": {},
     "title": ""
    }
   },
   "source": [
    "# Atividades para treino numpy\n",
    "(Gerados pelo chatGpt)"
   ]
  },
  {
   "cell_type": "markdown",
   "metadata": {
    "application/vnd.databricks.v1+cell": {
     "cellMetadata": {},
     "inputWidgets": {},
     "nuid": "989a7b50-d207-4871-a666-b52d263d9a72",
     "showTitle": false,
     "tableResultSettingsMap": {},
     "title": ""
    }
   },
   "source": [
    "## Iniciante:"
   ]
  },
  {
   "cell_type": "code",
   "execution_count": 0,
   "metadata": {
    "application/vnd.databricks.v1+cell": {
     "cellMetadata": {
      "byteLimit": 2048000,
      "rowLimit": 10000
     },
     "inputWidgets": {},
     "nuid": "cd5bab2f-4629-441e-b083-ee32a6b38703",
     "showTitle": false,
     "tableResultSettingsMap": {},
     "title": ""
    }
   },
   "outputs": [
    {
     "output_type": "stream",
     "name": "stdout",
     "output_type": "stream",
     "text": [
      "Out[2]: array([0., 0., 0., 0., 0., 0., 0., 0., 0., 0.])"
     ]
    }
   ],
   "source": [
    "# Crie um array de 10 zeros.\n",
    "\n",
    "np.zeros(10)"
   ]
  },
  {
   "cell_type": "code",
   "execution_count": 0,
   "metadata": {
    "application/vnd.databricks.v1+cell": {
     "cellMetadata": {
      "byteLimit": 2048000,
      "rowLimit": 10000
     },
     "inputWidgets": {},
     "nuid": "509d9df7-a05c-4e40-b301-194580582c9d",
     "showTitle": false,
     "tableResultSettingsMap": {},
     "title": ""
    }
   },
   "outputs": [
    {
     "output_type": "stream",
     "name": "stdout",
     "output_type": "stream",
     "text": [
      "Out[11]: array([19, 39, 64, 54, 91, 88, 95, 76, 47, 69])"
     ]
    }
   ],
   "source": [
    "# Crie um array de 10 números inteiros aleatórios entre 1 e 100.\n",
    "\n",
    "np.random.randint(1, 100, 10)"
   ]
  },
  {
   "cell_type": "code",
   "execution_count": 0,
   "metadata": {
    "application/vnd.databricks.v1+cell": {
     "cellMetadata": {
      "byteLimit": 2048000,
      "rowLimit": 10000
     },
     "inputWidgets": {},
     "nuid": "16623453-1acc-4a75-a4bd-c34b10834b2c",
     "showTitle": false,
     "tableResultSettingsMap": {},
     "title": ""
    }
   },
   "outputs": [
    {
     "output_type": "stream",
     "name": "stdout",
     "output_type": "stream",
     "text": [
      "Out[13]: array([25, 18, 29, 74, 80, 77, 58, 30, 64, 11, 25, 35, 41, 79, 58, 83, 37,\n        8,  7, 57])"
     ]
    }
   ],
   "source": [
    "# Crie um array com valores de 0 a 20 com passo 2.\n",
    "\n",
    "np.random.randint(1, 100, 20)"
   ]
  },
  {
   "cell_type": "code",
   "execution_count": 0,
   "metadata": {
    "application/vnd.databricks.v1+cell": {
     "cellMetadata": {
      "byteLimit": 2048000,
      "rowLimit": 10000
     },
     "inputWidgets": {},
     "nuid": "f4ae7ce7-dfbc-4390-8eb5-3018cb247d6a",
     "showTitle": false,
     "tableResultSettingsMap": {},
     "title": ""
    }
   },
   "outputs": [
    {
     "output_type": "stream",
     "name": "stdout",
     "output_type": "stream",
     "text": [
      "Out[18]: array([[1, 1, 1],\n       [1, 1, 1],\n       [1, 1, 1]])"
     ]
    }
   ],
   "source": [
    "# Crie uma matriz 3x3 contendo apenas números 1.\n",
    "\n",
    "np.ones((3,3), dtype=int)"
   ]
  },
  {
   "cell_type": "code",
   "execution_count": 0,
   "metadata": {
    "application/vnd.databricks.v1+cell": {
     "cellMetadata": {
      "byteLimit": 2048000,
      "rowLimit": 10000
     },
     "inputWidgets": {},
     "nuid": "fd682168-070b-4e6a-ab39-95555c9def87",
     "showTitle": false,
     "tableResultSettingsMap": {},
     "title": ""
    }
   },
   "outputs": [
    {
     "output_type": "stream",
     "name": "stdout",
     "output_type": "stream",
     "text": [
      "Out[20]: array([[1., 0., 0., 0.],\n       [0., 1., 0., 0.],\n       [0., 0., 1., 0.],\n       [0., 0., 0., 1.]])"
     ]
    }
   ],
   "source": [
    "# Crie uma matriz identidade 4x4.\n",
    "\n",
    "np.identity(4)"
   ]
  },
  {
   "cell_type": "code",
   "execution_count": 0,
   "metadata": {
    "application/vnd.databricks.v1+cell": {
     "cellMetadata": {
      "byteLimit": 2048000,
      "rowLimit": 10000
     },
     "inputWidgets": {},
     "nuid": "08aa7418-f4b3-4d6c-85e1-11b9ff434e12",
     "showTitle": false,
     "tableResultSettingsMap": {},
     "title": ""
    }
   },
   "outputs": [
    {
     "output_type": "stream",
     "name": "stdout",
     "output_type": "stream",
     "text": [
      "5.5\n5.5\n2.8722813232690143\n"
     ]
    }
   ],
   "source": [
    "# Calcule a média, mediana e desvio padrão de um array.\n",
    "\n",
    "arr = np.arange(1, 11)\n",
    "\n",
    "print(arr.mean())\n",
    "print(np.median(arr))\n",
    "print(np.std(arr))"
   ]
  },
  {
   "cell_type": "code",
   "execution_count": 0,
   "metadata": {
    "application/vnd.databricks.v1+cell": {
     "cellMetadata": {
      "byteLimit": 2048000,
      "rowLimit": 10000
     },
     "inputWidgets": {},
     "nuid": "8a00adc3-e2fa-4440-a6af-ea53fea9ab02",
     "showTitle": false,
     "tableResultSettingsMap": {},
     "title": ""
    }
   },
   "outputs": [
    {
     "output_type": "stream",
     "name": "stdout",
     "output_type": "stream",
     "text": [
      "Out[32]: array([[0, 1, 2],\n       [3, 4, 5],\n       [6, 7, 8]])"
     ]
    }
   ],
   "source": [
    "# Reshape um array de 1D para 2D (ex: de (9,) para (3,3)).\n",
    "arr = np.arange(9)\n",
    "arr.reshape(3,3)"
   ]
  },
  {
   "cell_type": "markdown",
   "metadata": {
    "application/vnd.databricks.v1+cell": {
     "cellMetadata": {},
     "inputWidgets": {},
     "nuid": "6c850e4e-c28a-4871-84d2-981d2b8b305f",
     "showTitle": false,
     "tableResultSettingsMap": {},
     "title": ""
    }
   },
   "source": [
    "## Intermediário"
   ]
  },
  {
   "cell_type": "code",
   "execution_count": 0,
   "metadata": {
    "application/vnd.databricks.v1+cell": {
     "cellMetadata": {
      "byteLimit": 2048000,
      "rowLimit": 10000
     },
     "inputWidgets": {},
     "nuid": "0af015ef-ac15-43f4-ac67-c96a900e2073",
     "showTitle": false,
     "tableResultSettingsMap": {},
     "title": ""
    }
   },
   "outputs": [
    {
     "output_type": "stream",
     "name": "stdout",
     "output_type": "stream",
     "text": [
      "[[ 7 16 27]\n [16 25 36]\n [ 7 16 27]]\n"
     ]
    }
   ],
   "source": [
    "# Multiplique elemento a elemento duas matrizes 3x3.\n",
    "\n",
    "arr1 = np.arange(1, 10).reshape(3,3)\n",
    "arr2 = arr1[::-1]\n",
    "\n",
    "print(arr1*arr2)"
   ]
  },
  {
   "cell_type": "code",
   "execution_count": 0,
   "metadata": {
    "application/vnd.databricks.v1+cell": {
     "cellMetadata": {
      "byteLimit": 2048000,
      "rowLimit": 10000
     },
     "inputWidgets": {},
     "nuid": "306a37a2-984d-42d7-beea-319a281f6527",
     "showTitle": false,
     "tableResultSettingsMap": {},
     "title": ""
    }
   },
   "outputs": [
    {
     "output_type": "stream",
     "name": "stdout",
     "output_type": "stream",
     "text": [
      "[70  2 92 60 20 30  6 16 98 12 70 68 66 76]\n"
     ]
    }
   ],
   "source": [
    "# Filtre os números pares de um array aleatório de 20 elementos.\n",
    "\n",
    "arr = np.random.randint(1, 100, 20)\n",
    "isEven = arr % 2 == 0\n",
    "\n",
    "print(arr[isEven])\n"
   ]
  },
  {
   "cell_type": "code",
   "execution_count": 0,
   "metadata": {
    "application/vnd.databricks.v1+cell": {
     "cellMetadata": {
      "byteLimit": 2048000,
      "rowLimit": 10000
     },
     "inputWidgets": {},
     "nuid": "6ef899db-cbec-47b6-a66e-a1bcf7e42b49",
     "showTitle": false,
     "tableResultSettingsMap": {},
     "title": ""
    }
   },
   "outputs": [
    {
     "output_type": "stream",
     "name": "stdout",
     "output_type": "stream",
     "text": [
      "[50 50 24 50 50 50 45 50 50 38  6 50 50  1 29 50 47 50 50 50]\n"
     ]
    }
   ],
   "source": [
    "# Substitua todos os valores maiores que 50 por 50 em um array aleatório.\n",
    "\n",
    "arr = np.random.randint(1, 100, 20)\n",
    "arr[arr > 50] = 50\n",
    "print(arr)"
   ]
  },
  {
   "cell_type": "code",
   "execution_count": 0,
   "metadata": {
    "application/vnd.databricks.v1+cell": {
     "cellMetadata": {
      "byteLimit": 2048000,
      "rowLimit": 10000
     },
     "inputWidgets": {},
     "nuid": "1cc9648b-8c17-4689-a4fd-6e1af7454fe2",
     "showTitle": false,
     "tableResultSettingsMap": {},
     "title": ""
    }
   },
   "outputs": [
    {
     "output_type": "stream",
     "name": "stdout",
     "output_type": "stream",
     "text": [
      "Out[61]: array([[ 0,  0,  0,  0,  0],\n       [ 0,  6,  7,  8,  0],\n       [ 0, 11, 12, 13,  0],\n       [ 0, 16, 17, 18,  0],\n       [ 0,  0,  0,  0,  0]])"
     ]
    }
   ],
   "source": [
    "# Crie uma matriz 5x5 com números aleatórios e zere as bordas.\n",
    "\n",
    "arr = np.arange(25).reshape(5,5)\n",
    "\n",
    "arr[0, :] = 0  \n",
    "arr[-1, :] = 0 \n",
    "arr[:, 0] = 0  \n",
    "arr[:, -1] = 0 \n",
    "\n",
    "arr\n",
    "\n"
   ]
  },
  {
   "cell_type": "code",
   "execution_count": 0,
   "metadata": {
    "application/vnd.databricks.v1+cell": {
     "cellMetadata": {
      "byteLimit": 2048000,
      "rowLimit": 10000
     },
     "inputWidgets": {},
     "nuid": "78ac56c8-f683-4970-9f99-73964c410560",
     "showTitle": false,
     "tableResultSettingsMap": {},
     "title": ""
    }
   },
   "outputs": [
    {
     "output_type": "stream",
     "name": "stdout",
     "output_type": "stream",
     "text": [
      "(array([50, 51, 52, 53, 54, 55, 56, 57, 58, 59, 60, 61, 62, 63, 64, 65, 66,\n       67, 68, 69, 70, 71, 72, 73, 74, 75, 76, 77, 78, 79, 80, 81, 82, 83,\n       84, 85, 86, 87, 88, 89, 90, 91, 92, 93, 94, 95, 96, 97, 98, 99]),)\n"
     ]
    }
   ],
   "source": [
    "# Encontre os índices dos elementos maiores que a média em um array.\n",
    "\n",
    "arr = np.arange(1, 101)\n",
    "\n",
    "bigger_mean = arr > arr.mean()\n",
    "\n",
    "print(np.where(bigger_mean))"
   ]
  },
  {
   "cell_type": "code",
   "execution_count": 0,
   "metadata": {
    "application/vnd.databricks.v1+cell": {
     "cellMetadata": {
      "byteLimit": 2048000,
      "rowLimit": 10000
     },
     "inputWidgets": {},
     "nuid": "7122fd5d-ae99-4390-b14e-687c26b7c39d",
     "showTitle": false,
     "tableResultSettingsMap": {},
     "title": ""
    }
   },
   "outputs": [
    {
     "output_type": "stream",
     "name": "stdout",
     "output_type": "stream",
     "text": [
      "Out[67]: array([[22, 23, 24],\n       [28, 29, 30],\n       [34, 35, 36]])"
     ]
    }
   ],
   "source": [
    "# Use slicing para extrair uma submatriz de uma matriz 6x6.\n",
    "\n",
    "arr = np.arange(1,37).reshape(6,6)\n",
    "arr[3:, 3:]"
   ]
  },
  {
   "cell_type": "markdown",
   "metadata": {
    "application/vnd.databricks.v1+cell": {
     "cellMetadata": {},
     "inputWidgets": {},
     "nuid": "33b8faea-c9e6-4129-918c-ea452a46a2e0",
     "showTitle": false,
     "tableResultSettingsMap": {},
     "title": ""
    }
   },
   "source": [
    "## Avançado"
   ]
  },
  {
   "cell_type": "code",
   "execution_count": 0,
   "metadata": {
    "application/vnd.databricks.v1+cell": {
     "cellMetadata": {
      "byteLimit": 2048000,
      "rowLimit": 10000
     },
     "inputWidgets": {},
     "nuid": "b34a81b5-fc71-4de8-bc0d-323dedb81ac9",
     "showTitle": false,
     "tableResultSettingsMap": {},
     "title": ""
    }
   },
   "outputs": [
    {
     "output_type": "stream",
     "name": "stdout",
     "output_type": "stream",
     "text": [
      "Out[72]: array([ 10,  20,  30,  40,  50,  60,  70,  80,  90, 100])"
     ]
    }
   ],
   "source": [
    "# Crie uma matriz 10x10 com valores aleatórios e encontre o maior valor de cada linha.\n",
    "\n",
    "arr = np.arange(1, 101).reshape(10,10)\n",
    "bigger_values = np.max(arr, axis=1)\n",
    "bigger_values"
   ]
  },
  {
   "cell_type": "code",
   "execution_count": 0,
   "metadata": {
    "application/vnd.databricks.v1+cell": {
     "cellMetadata": {},
     "inputWidgets": {},
     "nuid": "2490d8f4-9fbf-4201-aa9a-b4939f7dd77c",
     "showTitle": false,
     "tableResultSettingsMap": {},
     "title": ""
    }
   },
   "outputs": [],
   "source": []
  }
 ],
 "metadata": {
  "application/vnd.databricks.v1+notebook": {
   "computePreferences": null,
   "dashboards": [],
   "environmentMetadata": {
    "base_environment": "",
    "environment_version": "1"
   },
   "inputWidgetPreferences": null,
   "language": "python",
   "notebookMetadata": {
    "pythonIndentUnit": 4
   },
   "notebookName": "Review numpy",
   "widgets": {}
  }
 },
 "nbformat": 4,
 "nbformat_minor": 0
}